{
 "cells": [
  {
   "cell_type": "code",
   "execution_count": 4,
   "metadata": {},
   "outputs": [],
   "source": [
    "from html.parser import HTMLParser\n",
    "import urllib"
   ]
  },
  {
   "cell_type": "code",
   "execution_count": 8,
   "metadata": {},
   "outputs": [],
   "source": [
    "from IPython.display import HTML\n",
    "import random\n",
    "\n",
    "def hide_toggle(for_next=False):\n",
    "    this_cell = \"\"\"$('div.cell.code_cell.rendered.selected')\"\"\"\n",
    "    next_cell = this_cell + '.next()'\n",
    "\n",
    "    toggle_text = 'Toggle show/hide'  # text shown on toggle link\n",
    "    target_cell = this_cell  # target cell to control with toggle\n",
    "    js_hide_current = ''  # bit of JS to permanently hide code in current cell (only when toggling next cell)\n",
    "\n",
    "    if for_next:\n",
    "        target_cell = next_cell\n",
    "        toggle_text += ' next cell'\n",
    "        js_hide_current = this_cell + '.find(\"div.input\").hide();'\n",
    "\n",
    "    js_f_name = 'code_toggle_{}'.format(str(random.randint(1,2**64)))\n",
    "\n",
    "    html = \"\"\"\n",
    "        <script>\n",
    "            function {f_name}() {{\n",
    "                {cell_selector}.find('div.input').toggle();\n",
    "            }}\n",
    "\n",
    "            {js_hide_current}\n",
    "        </script>\n",
    "\n",
    "        <a href=\"javascript:{f_name}()\">{toggle_text}</a>\n",
    "    \"\"\".format(\n",
    "        f_name=js_f_name,\n",
    "        cell_selector=target_cell,\n",
    "        js_hide_current=js_hide_current, \n",
    "        toggle_text=toggle_text\n",
    "    )\n",
    "\n",
    "    return HTML(html)"
   ]
  },
  {
   "cell_type": "code",
   "execution_count": 2,
   "metadata": {},
   "outputs": [],
   "source": [
    "# Chain rule\n",
    "url1 = \"https://math.stackexchange.com/questions/21915/chain-rule-for-multi-variable-functions\""
   ]
  },
  {
   "cell_type": "code",
   "execution_count": 7,
   "metadata": {},
   "outputs": [],
   "source": [
    "class MyHTMLParser(HTMLParser):\n",
    "    \n",
    "    def __init__(self):\n",
    "        HTMLParser.__init__(self)\n",
    "        self.links = []\n",
    "    \n",
    "    def handle_starttag(self, tag, attrs):\n",
    "        # Only parse the 'anchor' tag.\n",
    "        if tag == \"a\":\n",
    "           # Check the list of defined attributes.\n",
    "           for name, value in attrs:\n",
    "               # If href is defined, print it.\n",
    "               if name == \"href\":\n",
    "                    self.links.append(value)\n",
    "                    \n",
    "                    \n",
    "########### URL/HTML Utility Helpers ###########\n",
    "\n",
    "def extract_url_path(url):\n",
    "    return urllib.parse.urlparse(url).path\n",
    "\n",
    "def extract_url_netloc(url):\n",
    "    return urllib.parse.urlparse(url).netloc\n",
    "\n",
    "def word_in_list(word,lst):\n",
    "    for elem in lst:\n",
    "        if word in elem:\n",
    "            return True\n",
    "    return False\n",
    "\n",
    "def is_same_netloc(url1,url2):\n",
    "    netloc1 = extract_url_netloc(url1)\n",
    "    netloc2 = extract_url_netloc(url2)\n",
    "    return netloc1 == netloc2\n",
    "\n",
    "def is_linked(url1, url2):\n",
    "    html = get_html(url1)\n",
    "    parser = MyHTMLParser()\n",
    "    parser.feed(html)\n",
    "    url1_links = parser.links\n",
    "    url2_path = extract_url_path(url2)\n",
    "    for link in url1_links:\n",
    "        if url2 in link:\n",
    "            return True\n",
    "        if url2_path in link:\n",
    "            return True\n",
    "    return False\n",
    "\n",
    "def get_html(url):\n",
    "    website = urllib.request.urlopen(url)\n",
    "    html = website.read().decode()\n",
    "    return html"
   ]
  },
  {
   "cell_type": "code",
   "execution_count": null,
   "metadata": {},
   "outputs": [],
   "source": []
  }
 ],
 "metadata": {
  "kernelspec": {
   "display_name": "Python 3",
   "language": "python",
   "name": "python3"
  },
  "language_info": {
   "codemirror_mode": {
    "name": "ipython",
    "version": 3
   },
   "file_extension": ".py",
   "mimetype": "text/x-python",
   "name": "python",
   "nbconvert_exporter": "python",
   "pygments_lexer": "ipython3",
   "version": "3.7.0"
  }
 },
 "nbformat": 4,
 "nbformat_minor": 2
}
