{
 "cells": [
  {
   "cell_type": "code",
   "execution_count": 1,
   "metadata": {},
   "outputs": [],
   "source": [
    "from html.parser import HTMLParser\n",
    "import urllib"
   ]
  },
  {
   "cell_type": "code",
   "execution_count": 2,
   "metadata": {},
   "outputs": [],
   "source": [
    "from IPython.display import HTML\n",
    "import random\n",
    "\n",
    "\n",
    "def hide_toggle(for_next=False):\n",
    "    this_cell = \"\"\"$('div.cell.code_cell.rendered.selected')\"\"\"\n",
    "    next_cell = this_cell + '.next()'\n",
    "\n",
    "    toggle_text = 'Toggle show/hide'  # text shown on toggle link\n",
    "    target_cell = this_cell  # target cell to control with toggle\n",
    "    js_hide_current = ''  # bit of JS to permanently hide code in current cell (only when toggling next cell)\n",
    "\n",
    "    if for_next:\n",
    "        target_cell = next_cell\n",
    "        toggle_text += ' next cell'\n",
    "        js_hide_current = this_cell + '.find(\"div.input\").hide();'\n",
    "\n",
    "    js_f_name = 'code_toggle_{}'.format(str(random.randint(1,2**64)))\n",
    "\n",
    "    html = \"\"\"\n",
    "        <script>\n",
    "            function {f_name}() {{\n",
    "                {cell_selector}.find('div.input').toggle();\n",
    "            }}\n",
    "\n",
    "            {js_hide_current}\n",
    "        </script>\n",
    "\n",
    "        <a href=\"javascript:{f_name}()\">{toggle_text}</a>\n",
    "    \"\"\".format(\n",
    "        f_name=js_f_name,\n",
    "        cell_selector=target_cell,\n",
    "        js_hide_current=js_hide_current, \n",
    "        toggle_text=toggle_text\n",
    "    )\n",
    "\n",
    "    return HTML(html)\n"
   ]
  },
  {
   "cell_type": "code",
   "execution_count": 3,
   "metadata": {},
   "outputs": [],
   "source": [
    "# Chain rule\n",
    "url1 = \"https://math.stackexchange.com/questions/21915/chain-rule-for-multi-variable-functions\""
   ]
  },
  {
   "cell_type": "code",
   "execution_count": 4,
   "metadata": {},
   "outputs": [],
   "source": [
    "class MyHTMLParser(HTMLParser):\n",
    "    \n",
    "    def __init__(self):\n",
    "        HTMLParser.__init__(self)\n",
    "        self.links = []\n",
    "    \n",
    "    def handle_starttag(self, tag, attrs):\n",
    "        # Only parse the 'anchor' tag.\n",
    "        if tag == \"a\":\n",
    "           # Check the list of defined attributes.\n",
    "           for name, value in attrs:\n",
    "               # If href is defined, print it.\n",
    "               if name == \"href\":\n",
    "                    self.links.append(value)\n",
    "    \n",
    "    def print_links(self):\n",
    "        print(self.links)\n",
    "                    \n",
    "                    \n",
    "########### URL/HTML Utility Helpers ###########\n",
    "\n",
    "def extract_url_path(url):\n",
    "    return urllib.parse.urlparse(url).path\n",
    "\n",
    "def extract_url_netloc(url):\n",
    "    return urllib.parse.urlparse(url).netloc\n",
    "\n",
    "def word_in_list(word,lst):\n",
    "    for elem in lst:\n",
    "        if word in elem:\n",
    "            return True\n",
    "    return False\n",
    "\n",
    "def is_same_netloc(url1,url2):\n",
    "    netloc1 = extract_url_netloc(url1)\n",
    "    netloc2 = extract_url_netloc(url2)\n",
    "    return netloc1 == netloc2\n",
    "\n",
    "def is_linked(url1, url2):\n",
    "    html = get_html(url1)\n",
    "    parser = MyHTMLParser()\n",
    "    parser.feed(html)\n",
    "    url1_links = parser.links\n",
    "    url2_path = extract_url_path(url2)\n",
    "    for link in url1_links:\n",
    "        if url2 in link:\n",
    "            return True\n",
    "        if url2_path in link:\n",
    "            return True\n",
    "    return False\n",
    "\n",
    "def get_html(url):\n",
    "    website = urllib.request.urlopen(url)\n",
    "    html = website.read().decode()\n",
    "    return html\n"
   ]
  },
  {
   "cell_type": "code",
   "execution_count": 5,
   "metadata": {},
   "outputs": [],
   "source": [
    "parser = MyHTMLParser()"
   ]
  },
  {
   "cell_type": "code",
   "execution_count": 6,
   "metadata": {},
   "outputs": [],
   "source": [
    "html = get_html(url1)"
   ]
  },
  {
   "cell_type": "code",
   "execution_count": 7,
   "metadata": {},
   "outputs": [],
   "source": [
    "parser.feed(html)"
   ]
  },
  {
   "cell_type": "code",
   "execution_count": 8,
   "metadata": {},
   "outputs": [],
   "source": [
    "p = urllib.parse.urlparse(url1)"
   ]
  },
  {
   "cell_type": "code",
   "execution_count": 9,
   "metadata": {},
   "outputs": [],
   "source": [
    "url_list = parser.links"
   ]
  },
  {
   "cell_type": "code",
   "execution_count": 10,
   "metadata": {},
   "outputs": [
    {
     "data": {
      "text/plain": [
       "True"
      ]
     },
     "execution_count": 10,
     "metadata": {},
     "output_type": "execute_result"
    }
   ],
   "source": [
    "\"123\".isnumeric()"
   ]
  },
  {
   "cell_type": "code",
   "execution_count": 11,
   "metadata": {},
   "outputs": [],
   "source": [
    "def is_related_question(url):\n",
    "    return url[:11] == \"/questions/\" and url[12].isnumeric()"
   ]
  },
  {
   "cell_type": "code",
   "execution_count": 12,
   "metadata": {},
   "outputs": [],
   "source": [
    "def is_related_question2(url, current_url):\n",
    "    split_url = url.split('/')\n",
    "    split_current_url = current_url.split('/')\n",
    "    try:\n",
    "        if split_current_url[-1] in split_url[-1]:\n",
    "            return False\n",
    "        return split_url[1] == \"questions\" and split_url[2].isnumeric()\n",
    "    except:\n",
    "        return False"
   ]
  },
  {
   "cell_type": "code",
   "execution_count": 13,
   "metadata": {},
   "outputs": [],
   "source": [
    "related_questions = list(filter(is_related_question, url_list))"
   ]
  },
  {
   "cell_type": "code",
   "execution_count": 14,
   "metadata": {},
   "outputs": [
    {
     "data": {
      "text/plain": [
       "['/questions/21915/chain-rule-for-multi-variable-functions',\n",
       " '/questions/21915/chain-rule-for-multi-variable-functions?answertab=active#tab-top',\n",
       " '/questions/21915/chain-rule-for-multi-variable-functions?answertab=oldest#tab-top',\n",
       " '/questions/21915/chain-rule-for-multi-variable-functions?answertab=votes#tab-top',\n",
       " '/questions/427236/chain-rule-for-functions-of-two-variables',\n",
       " '/questions/1367850/quotient-rule-and-chain-rule',\n",
       " '/questions/1374661/chain-rule-for-implicit-functions',\n",
       " '/questions/1609523/multi-variable-chain-rule-example',\n",
       " '/questions/1965522/chain-rule-for-multi-index-notation',\n",
       " '/questions/2435434/derivative-using-chain-rule-with-multi-variable-function',\n",
       " '/questions/2443472/confusion-with-using-product-rule-with-partial-derivatives-and-chain-rule-multi',\n",
       " '/questions/2897210/partial-chain-rule-in-multi-dimensional-case',\n",
       " '/questions/2897446/multi-variable-chain-rule-with-multi-variable-functions-as-arguments',\n",
       " '/questions/2938275/multi-variable-chain-rule-notation-question']"
      ]
     },
     "execution_count": 14,
     "metadata": {},
     "output_type": "execute_result"
    }
   ],
   "source": [
    "related_questions"
   ]
  },
  {
   "cell_type": "code",
   "execution_count": 15,
   "metadata": {},
   "outputs": [],
   "source": [
    "related_questions2 = list(filter(lambda x: is_related_question2(x, url1), url_list))"
   ]
  },
  {
   "cell_type": "code",
   "execution_count": 16,
   "metadata": {},
   "outputs": [
    {
     "data": {
      "text/plain": [
       "['/questions/427236/chain-rule-for-functions-of-two-variables',\n",
       " '/questions/1367850/quotient-rule-and-chain-rule',\n",
       " '/questions/1374661/chain-rule-for-implicit-functions',\n",
       " '/questions/1609523/multi-variable-chain-rule-example',\n",
       " '/questions/1965522/chain-rule-for-multi-index-notation',\n",
       " '/questions/2435434/derivative-using-chain-rule-with-multi-variable-function',\n",
       " '/questions/2443472/confusion-with-using-product-rule-with-partial-derivatives-and-chain-rule-multi',\n",
       " '/questions/2897210/partial-chain-rule-in-multi-dimensional-case',\n",
       " '/questions/2897446/multi-variable-chain-rule-with-multi-variable-functions-as-arguments',\n",
       " '/questions/2938275/multi-variable-chain-rule-notation-question']"
      ]
     },
     "execution_count": 16,
     "metadata": {},
     "output_type": "execute_result"
    }
   ],
   "source": [
    "related_questions2"
   ]
  },
  {
   "cell_type": "code",
   "execution_count": 18,
   "metadata": {},
   "outputs": [
    {
     "data": {
      "text/plain": [
       "'https://math.stackexchange.com/questions/21915/chain-rule-for-multi-variable-functions'"
      ]
     },
     "execution_count": 18,
     "metadata": {},
     "output_type": "execute_result"
    }
   ],
   "source": [
    "url1"
   ]
  },
  {
   "cell_type": "code",
   "execution_count": 19,
   "metadata": {},
   "outputs": [
    {
     "data": {
      "text/plain": [
       "ParseResult(scheme='https', netloc='math.stackexchange.com', path='/questions/21915/chain-rule-for-multi-variable-functions', params='', query='', fragment='')"
      ]
     },
     "execution_count": 19,
     "metadata": {},
     "output_type": "execute_result"
    }
   ],
   "source": [
    "p"
   ]
  },
  {
   "cell_type": "code",
   "execution_count": 30,
   "metadata": {},
   "outputs": [],
   "source": [
    "def produce_url(netloc, path):\n",
    "    scheme = \"https\"\n",
    "    url_tuple = (scheme, netloc, path, \"\", \"\", \"\")\n",
    "    return urllib.parse.urlunparse(url_tuple)"
   ]
  },
  {
   "cell_type": "code",
   "execution_count": 32,
   "metadata": {},
   "outputs": [],
   "source": [
    "d = {url1 : []}"
   ]
  },
  {
   "cell_type": "code",
   "execution_count": 33,
   "metadata": {},
   "outputs": [
    {
     "data": {
      "text/plain": [
       "{'https://math.stackexchange.com/questions/21915/chain-rule-for-multi-variable-functions': []}"
      ]
     },
     "execution_count": 33,
     "metadata": {},
     "output_type": "execute_result"
    }
   ],
   "source": [
    "counter = 0\n",
    "n = 200\n",
    "while counter < n:\n",
    "    "
   ]
  },
  {
   "cell_type": "code",
   "execution_count": null,
   "metadata": {},
   "outputs": [],
   "source": [
    "class WebGraph(object):\n",
    "    \n",
    "    '''WebGraph is a graph structure of the web'''\n",
    "    \n",
    "    def __init__(self, starting_node):\n",
    "        self.graph = {starting_node : []}\n",
    "        self.parser = MyHTMLParser()\n",
    "    \n",
    "    @staticmethod\n",
    "    def is_related_question2(url, current_url):\n",
    "        split_url = url.split('/')\n",
    "        split_current_url = current_url.split('/')\n",
    "        try:\n",
    "            if split_current_url[-1] in split_url[-1]:\n",
    "                return False\n",
    "            return split_url[1] == \"questions\" and split_url[2].isnumeric()\n",
    "        except:\n",
    "            return False\n",
    "    \n",
    "    \n",
    "    \n",
    "    def get_related_questions(self, stack_url):\n",
    "        '''Gets related questions in Stack Exchange'''\n",
    "        \n",
    "    "
   ]
  }
 ],
 "metadata": {
  "kernelspec": {
   "display_name": "Python 3",
   "language": "python",
   "name": "python3"
  },
  "language_info": {
   "codemirror_mode": {
    "name": "ipython",
    "version": 3
   },
   "file_extension": ".py",
   "mimetype": "text/x-python",
   "name": "python",
   "nbconvert_exporter": "python",
   "pygments_lexer": "ipython3",
   "version": "3.7.0"
  }
 },
 "nbformat": 4,
 "nbformat_minor": 2
}
